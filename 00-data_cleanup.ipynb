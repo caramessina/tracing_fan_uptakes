{
 "cells": [
  {
   "cell_type": "markdown",
   "metadata": {},
   "source": [
    "## Tracing Fan Uptake:<br/>Computational Text Analysis of \"The Legend of Korra\" Fanfictions from Archive Of Our Own\n",
    "\n",
    "Cara Marta Messina<br/>\n",
    "PhD Candidate in English, Writing & Rhetoric<br/>\n",
    "Northeastern University<br/>\n",
    "Published for <em>The Journal of Writing Analytics</em>, Volume 3\n",
    "\n",
    "## More will be added\n",
    "\n",
    "This computational notebook demonstrates the data preparation steps for the article \"Tracing Fan Uptakes: Relationship Tagging Practices in The Legend of Korra Fanfictions,\" which has been accepted and will be published soon in the <em>The Journal of Writing Analytics</em>.\n",
    "\n",
    "This notebook will go over:\n",
    "- uploading the csv file created using Jingyi Li and Sarah Sterman's <em>Archive of Our Own</em> Python scraper (available at https://github.com/radiolarian/AO3Scraper)\n",
    "- adding in the 'month' column\n",
    "- basic visualizations"
   ]
  },
  {
   "cell_type": "code",
   "execution_count": 2,
   "metadata": {
    "collapsed": true
   },
   "outputs": [],
   "source": [
    "#pandas for working with dataframes\n",
    "import pandas as pd\n",
    "\n",
    "#regular expression library\n",
    "import re\n",
    "\n",
    "#numpy specifically works with numbers\n",
    "import numpy as np\n",
    "\n",
    "#matplot library creates visualizations\n",
    "import matplotlib.pyplot as plt\n",
    "%matplotlib inline"
   ]
  },
  {
   "cell_type": "code",
   "execution_count": 3,
   "metadata": {},
   "outputs": [
    {
     "data": {
      "text/html": [
       "<div>\n",
       "<style>\n",
       "    .dataframe thead tr:only-child th {\n",
       "        text-align: right;\n",
       "    }\n",
       "\n",
       "    .dataframe thead th {\n",
       "        text-align: left;\n",
       "    }\n",
       "\n",
       "    .dataframe tbody tr th {\n",
       "        vertical-align: top;\n",
       "    }\n",
       "</style>\n",
       "<table border=\"1\" class=\"dataframe\">\n",
       "  <thead>\n",
       "    <tr style=\"text-align: right;\">\n",
       "      <th></th>\n",
       "      <th>Unnamed: 0</th>\n",
       "      <th>work_id</th>\n",
       "      <th>title</th>\n",
       "      <th>rating</th>\n",
       "      <th>category</th>\n",
       "      <th>fandom</th>\n",
       "      <th>relationship</th>\n",
       "      <th>character</th>\n",
       "      <th>additional tags</th>\n",
       "      <th>language</th>\n",
       "      <th>...</th>\n",
       "      <th>status</th>\n",
       "      <th>status date</th>\n",
       "      <th>words</th>\n",
       "      <th>chapters</th>\n",
       "      <th>comments</th>\n",
       "      <th>kudos</th>\n",
       "      <th>bookmarks</th>\n",
       "      <th>hits</th>\n",
       "      <th>body</th>\n",
       "      <th>month</th>\n",
       "    </tr>\n",
       "  </thead>\n",
       "  <tbody>\n",
       "    <tr>\n",
       "      <th>0</th>\n",
       "      <td>0</td>\n",
       "      <td>6388009</td>\n",
       "      <td>A More Perfect Union</td>\n",
       "      <td>General Audiences</td>\n",
       "      <td>Gen</td>\n",
       "      <td>Avatar: Legend of Korra</td>\n",
       "      <td>NaN</td>\n",
       "      <td>Noatak (Avatar), Tarrlok (Avatar), Amon (Avatar)</td>\n",
       "      <td>Alternate Universe</td>\n",
       "      <td>English</td>\n",
       "      <td>...</td>\n",
       "      <td>Updated</td>\n",
       "      <td>2018-03-14</td>\n",
       "      <td>8139</td>\n",
       "      <td>4/?</td>\n",
       "      <td>11</td>\n",
       "      <td>27</td>\n",
       "      <td>4</td>\n",
       "      <td>286</td>\n",
       "      <td>He's forgotten how to be warm. The thought wou...</td>\n",
       "      <td>2016-03</td>\n",
       "    </tr>\n",
       "  </tbody>\n",
       "</table>\n",
       "<p>1 rows × 21 columns</p>\n",
       "</div>"
      ],
      "text/plain": [
       "   Unnamed: 0  work_id                 title             rating category  \\\n",
       "0           0  6388009  A More Perfect Union  General Audiences      Gen   \n",
       "\n",
       "                    fandom relationship  \\\n",
       "0  Avatar: Legend of Korra          NaN   \n",
       "\n",
       "                                          character     additional tags  \\\n",
       "0  Noatak (Avatar), Tarrlok (Avatar), Amon (Avatar)  Alternate Universe   \n",
       "\n",
       "  language   ...      status status date words  chapters comments kudos  \\\n",
       "0  English   ...     Updated  2018-03-14  8139       4/?       11    27   \n",
       "\n",
       "  bookmarks hits                                               body    month  \n",
       "0         4  286  He's forgotten how to be warm. The thought wou...  2016-03  \n",
       "\n",
       "[1 rows x 21 columns]"
      ]
     },
     "execution_count": 3,
     "metadata": {},
     "output_type": "execute_result"
    }
   ],
   "source": [
    "#I am not saving the data in this GitHub folder\n",
    "allkorra = pd.read_csv('../../../data/korra/korra2018/allkorra.csv')\n",
    "\n",
    "#providing a preview of the data. \n",
    "allkorra.head(1)"
   ]
  },
  {
   "cell_type": "code",
   "execution_count": 6,
   "metadata": {
    "collapsed": true
   },
   "outputs": [],
   "source": [
    "allkorra['body'] = allkorra['body'].replace(np.nan,'',regex=True) \n",
    "#because some of the \"body\" values are blank, this will replace them with empty strings\n",
    "\n",
    "allkorra['body'] = (allkorra['body'] + ' ')\n",
    "#add space at the end so when I concatinate the body it works\n",
    "\n",
    "allkorra['body'] = allkorra['body'].replace('\\r',' ',regex=True)\n",
    "#removing the the \"empty\" body columns"
   ]
  },
  {
   "cell_type": "code",
   "execution_count": 8,
   "metadata": {},
   "outputs": [
    {
     "data": {
      "text/plain": [
       "0    2016-03\n",
       "1    2018-03\n",
       "2    2018-02\n",
       "3    2018-03\n",
       "4    2015-02\n",
       "5    2017-10\n",
       "6    2018-03\n",
       "7    2017-12\n",
       "8    2017-08\n",
       "9    2018-03\n",
       "Name: month, dtype: object"
      ]
     },
     "execution_count": 8,
     "metadata": {},
     "output_type": "execute_result"
    }
   ],
   "source": [
    "#using a regular expression to create a \"month\" column\n",
    "allkorra['month'] = allkorra['published'].replace('(\\d{4})(\\-)(\\d{2})(\\-)(\\d{2})','\\g<1>\\g<2>\\g<3>', regex=True)\n",
    "\n",
    "#to show what the new month columns look like\n",
    "print(allkorra['month'].head(10))"
   ]
  },
  {
   "cell_type": "code",
   "execution_count": 12,
   "metadata": {},
   "outputs": [
    {
     "name": "stdout",
     "output_type": "stream",
     "text": [
      "2015-01    400\n",
      "2014-12    359\n",
      "2015-02    311\n",
      "2015-03    236\n",
      "2014-10    225\n",
      "2015-06    221\n",
      "2015-08    201\n",
      "2015-04    201\n",
      "2012-06    197\n",
      "2015-05    197\n",
      "Name: month, dtype: int64\n"
     ]
    },
    {
     "data": {
      "image/png": "[encoded data removed]",
      "text/plain": [
       "<matplotlib.figure.Figure at 0x12b79f358>"
      ]
     },
     "metadata": {},
     "output_type": "display_data"
    }
   ],
   "source": [
    "#creating a visualization of the most popular published months\n",
    "\n",
    "monthcount = allkorra['month'].value_counts().head(10)\n",
    "print(monthcount)\n",
    "\n",
    "monthCountGraph = monthcount.plot.bar()\n",
    "monthCountGraph = plt.title('Highest Months of New TLOK Fanfics')\n",
    "monthCountGraph = plt.xlabel('Month and Year')\n",
    "monthCountGraph = plt.xlabel('Month and Year')"
   ]
  }
 ],
 "metadata": {
  "kernelspec": {
   "display_name": "Python 3",
   "language": "python",
   "name": "python3"
  },
  "language_info": {
   "codemirror_mode": {
    "name": "ipython",
    "version": 3
   },
   "file_extension": ".py",
   "mimetype": "text/x-python",
   "name": "python",
   "nbconvert_exporter": "python",
   "pygments_lexer": "ipython3",
   "version": "3.6.8"
  }
 },
 "nbformat": 4,
 "nbformat_minor": 2
}
